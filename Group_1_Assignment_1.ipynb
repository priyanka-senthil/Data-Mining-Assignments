{
  "cells": [
    {
      "cell_type": "markdown",
      "metadata": {
        "id": "ktyg1to3y8Xb"
      },
      "source": [
        "# Homework 1 ##"
      ]
    },
    {
      "cell_type": "markdown",
      "metadata": {
        "id": "1-cxPyzIzWN7"
      },
      "source": [
        "Through this homework, you'll practice the basics of data cleaning, data partition, data normalization, and data visualization.\n",
        "\n",
        "Please enter the code along with your comments in the **TODO** sections.\n",
        "\n",
        "Please refer to the files attached with the assignment for the dataset links.\n",
        "\n",
        "Alternative solutions are totally welcomed.\n",
        "\n"
      ]
    },
    {
      "cell_type": "markdown",
      "metadata": {
        "id": "WijOrz1AziQL"
      },
      "source": [
        "# Problem 1\n",
        "\n",
        "Source: Built-in Titanic dataset\n",
        "\n",
        "\n",
        "\n"
      ]
    },
    {
      "cell_type": "code",
      "execution_count": 1,
      "metadata": {
        "colab": {
          "base_uri": "https://localhost:8080/",
          "height": 206
        },
        "id": "cu8GN6I-zhIV",
        "outputId": "8941de35-087b-4891-acf3-3badab6ed573"
      },
      "outputs": [
        {
          "output_type": "execute_result",
          "data": {
            "text/plain": [
              "   survived  pclass     sex   age  sibsp  parch     fare embarked  class  \\\n",
              "0         0       3    male  22.0      1      0   7.2500        S  Third   \n",
              "1         1       1  female  38.0      1      0  71.2833        C  First   \n",
              "2         1       3  female  26.0      0      0   7.9250        S  Third   \n",
              "3         1       1  female  35.0      1      0  53.1000        S  First   \n",
              "4         0       3    male  35.0      0      0   8.0500        S  Third   \n",
              "\n",
              "     who  adult_male deck  embark_town alive  alone  \n",
              "0    man        True  NaN  Southampton    no  False  \n",
              "1  woman       False    C    Cherbourg   yes  False  \n",
              "2  woman       False  NaN  Southampton   yes   True  \n",
              "3  woman       False    C  Southampton   yes  False  \n",
              "4    man        True  NaN  Southampton    no   True  "
            ],
            "text/html": [
              "\n",
              "  <div id=\"df-b85d37b2-fd54-4d8a-a8f2-c518fc5113ca\" class=\"colab-df-container\">\n",
              "    <div>\n",
              "<style scoped>\n",
              "    .dataframe tbody tr th:only-of-type {\n",
              "        vertical-align: middle;\n",
              "    }\n",
              "\n",
              "    .dataframe tbody tr th {\n",
              "        vertical-align: top;\n",
              "    }\n",
              "\n",
              "    .dataframe thead th {\n",
              "        text-align: right;\n",
              "    }\n",
              "</style>\n",
              "<table border=\"1\" class=\"dataframe\">\n",
              "  <thead>\n",
              "    <tr style=\"text-align: right;\">\n",
              "      <th></th>\n",
              "      <th>survived</th>\n",
              "      <th>pclass</th>\n",
              "      <th>sex</th>\n",
              "      <th>age</th>\n",
              "      <th>sibsp</th>\n",
              "      <th>parch</th>\n",
              "      <th>fare</th>\n",
              "      <th>embarked</th>\n",
              "      <th>class</th>\n",
              "      <th>who</th>\n",
              "      <th>adult_male</th>\n",
              "      <th>deck</th>\n",
              "      <th>embark_town</th>\n",
              "      <th>alive</th>\n",
              "      <th>alone</th>\n",
              "    </tr>\n",
              "  </thead>\n",
              "  <tbody>\n",
              "    <tr>\n",
              "      <th>0</th>\n",
              "      <td>0</td>\n",
              "      <td>3</td>\n",
              "      <td>male</td>\n",
              "      <td>22.0</td>\n",
              "      <td>1</td>\n",
              "      <td>0</td>\n",
              "      <td>7.2500</td>\n",
              "      <td>S</td>\n",
              "      <td>Third</td>\n",
              "      <td>man</td>\n",
              "      <td>True</td>\n",
              "      <td>NaN</td>\n",
              "      <td>Southampton</td>\n",
              "      <td>no</td>\n",
              "      <td>False</td>\n",
              "    </tr>\n",
              "    <tr>\n",
              "      <th>1</th>\n",
              "      <td>1</td>\n",
              "      <td>1</td>\n",
              "      <td>female</td>\n",
              "      <td>38.0</td>\n",
              "      <td>1</td>\n",
              "      <td>0</td>\n",
              "      <td>71.2833</td>\n",
              "      <td>C</td>\n",
              "      <td>First</td>\n",
              "      <td>woman</td>\n",
              "      <td>False</td>\n",
              "      <td>C</td>\n",
              "      <td>Cherbourg</td>\n",
              "      <td>yes</td>\n",
              "      <td>False</td>\n",
              "    </tr>\n",
              "    <tr>\n",
              "      <th>2</th>\n",
              "      <td>1</td>\n",
              "      <td>3</td>\n",
              "      <td>female</td>\n",
              "      <td>26.0</td>\n",
              "      <td>0</td>\n",
              "      <td>0</td>\n",
              "      <td>7.9250</td>\n",
              "      <td>S</td>\n",
              "      <td>Third</td>\n",
              "      <td>woman</td>\n",
              "      <td>False</td>\n",
              "      <td>NaN</td>\n",
              "      <td>Southampton</td>\n",
              "      <td>yes</td>\n",
              "      <td>True</td>\n",
              "    </tr>\n",
              "    <tr>\n",
              "      <th>3</th>\n",
              "      <td>1</td>\n",
              "      <td>1</td>\n",
              "      <td>female</td>\n",
              "      <td>35.0</td>\n",
              "      <td>1</td>\n",
              "      <td>0</td>\n",
              "      <td>53.1000</td>\n",
              "      <td>S</td>\n",
              "      <td>First</td>\n",
              "      <td>woman</td>\n",
              "      <td>False</td>\n",
              "      <td>C</td>\n",
              "      <td>Southampton</td>\n",
              "      <td>yes</td>\n",
              "      <td>False</td>\n",
              "    </tr>\n",
              "    <tr>\n",
              "      <th>4</th>\n",
              "      <td>0</td>\n",
              "      <td>3</td>\n",
              "      <td>male</td>\n",
              "      <td>35.0</td>\n",
              "      <td>0</td>\n",
              "      <td>0</td>\n",
              "      <td>8.0500</td>\n",
              "      <td>S</td>\n",
              "      <td>Third</td>\n",
              "      <td>man</td>\n",
              "      <td>True</td>\n",
              "      <td>NaN</td>\n",
              "      <td>Southampton</td>\n",
              "      <td>no</td>\n",
              "      <td>True</td>\n",
              "    </tr>\n",
              "  </tbody>\n",
              "</table>\n",
              "</div>\n",
              "    <div class=\"colab-df-buttons\">\n",
              "\n",
              "  <div class=\"colab-df-container\">\n",
              "    <button class=\"colab-df-convert\" onclick=\"convertToInteractive('df-b85d37b2-fd54-4d8a-a8f2-c518fc5113ca')\"\n",
              "            title=\"Convert this dataframe to an interactive table.\"\n",
              "            style=\"display:none;\">\n",
              "\n",
              "  <svg xmlns=\"http://www.w3.org/2000/svg\" height=\"24px\" viewBox=\"0 -960 960 960\">\n",
              "    <path d=\"M120-120v-720h720v720H120Zm60-500h600v-160H180v160Zm220 220h160v-160H400v160Zm0 220h160v-160H400v160ZM180-400h160v-160H180v160Zm440 0h160v-160H620v160ZM180-180h160v-160H180v160Zm440 0h160v-160H620v160Z\"/>\n",
              "  </svg>\n",
              "    </button>\n",
              "\n",
              "  <style>\n",
              "    .colab-df-container {\n",
              "      display:flex;\n",
              "      gap: 12px;\n",
              "    }\n",
              "\n",
              "    .colab-df-convert {\n",
              "      background-color: #E8F0FE;\n",
              "      border: none;\n",
              "      border-radius: 50%;\n",
              "      cursor: pointer;\n",
              "      display: none;\n",
              "      fill: #1967D2;\n",
              "      height: 32px;\n",
              "      padding: 0 0 0 0;\n",
              "      width: 32px;\n",
              "    }\n",
              "\n",
              "    .colab-df-convert:hover {\n",
              "      background-color: #E2EBFA;\n",
              "      box-shadow: 0px 1px 2px rgba(60, 64, 67, 0.3), 0px 1px 3px 1px rgba(60, 64, 67, 0.15);\n",
              "      fill: #174EA6;\n",
              "    }\n",
              "\n",
              "    .colab-df-buttons div {\n",
              "      margin-bottom: 4px;\n",
              "    }\n",
              "\n",
              "    [theme=dark] .colab-df-convert {\n",
              "      background-color: #3B4455;\n",
              "      fill: #D2E3FC;\n",
              "    }\n",
              "\n",
              "    [theme=dark] .colab-df-convert:hover {\n",
              "      background-color: #434B5C;\n",
              "      box-shadow: 0px 1px 3px 1px rgba(0, 0, 0, 0.15);\n",
              "      filter: drop-shadow(0px 1px 2px rgba(0, 0, 0, 0.3));\n",
              "      fill: #FFFFFF;\n",
              "    }\n",
              "  </style>\n",
              "\n",
              "    <script>\n",
              "      const buttonEl =\n",
              "        document.querySelector('#df-b85d37b2-fd54-4d8a-a8f2-c518fc5113ca button.colab-df-convert');\n",
              "      buttonEl.style.display =\n",
              "        google.colab.kernel.accessAllowed ? 'block' : 'none';\n",
              "\n",
              "      async function convertToInteractive(key) {\n",
              "        const element = document.querySelector('#df-b85d37b2-fd54-4d8a-a8f2-c518fc5113ca');\n",
              "        const dataTable =\n",
              "          await google.colab.kernel.invokeFunction('convertToInteractive',\n",
              "                                                    [key], {});\n",
              "        if (!dataTable) return;\n",
              "\n",
              "        const docLinkHtml = 'Like what you see? Visit the ' +\n",
              "          '<a target=\"_blank\" href=https://colab.research.google.com/notebooks/data_table.ipynb>data table notebook</a>'\n",
              "          + ' to learn more about interactive tables.';\n",
              "        element.innerHTML = '';\n",
              "        dataTable['output_type'] = 'display_data';\n",
              "        await google.colab.output.renderOutput(dataTable, element);\n",
              "        const docLink = document.createElement('div');\n",
              "        docLink.innerHTML = docLinkHtml;\n",
              "        element.appendChild(docLink);\n",
              "      }\n",
              "    </script>\n",
              "  </div>\n",
              "\n",
              "\n",
              "<div id=\"df-84e5bffe-5386-4a3d-932f-d4b36a315854\">\n",
              "  <button class=\"colab-df-quickchart\" onclick=\"quickchart('df-84e5bffe-5386-4a3d-932f-d4b36a315854')\"\n",
              "            title=\"Suggest charts\"\n",
              "            style=\"display:none;\">\n",
              "\n",
              "<svg xmlns=\"http://www.w3.org/2000/svg\" height=\"24px\"viewBox=\"0 0 24 24\"\n",
              "     width=\"24px\">\n",
              "    <g>\n",
              "        <path d=\"M19 3H5c-1.1 0-2 .9-2 2v14c0 1.1.9 2 2 2h14c1.1 0 2-.9 2-2V5c0-1.1-.9-2-2-2zM9 17H7v-7h2v7zm4 0h-2V7h2v10zm4 0h-2v-4h2v4z\"/>\n",
              "    </g>\n",
              "</svg>\n",
              "  </button>\n",
              "\n",
              "<style>\n",
              "  .colab-df-quickchart {\n",
              "      --bg-color: #E8F0FE;\n",
              "      --fill-color: #1967D2;\n",
              "      --hover-bg-color: #E2EBFA;\n",
              "      --hover-fill-color: #174EA6;\n",
              "      --disabled-fill-color: #AAA;\n",
              "      --disabled-bg-color: #DDD;\n",
              "  }\n",
              "\n",
              "  [theme=dark] .colab-df-quickchart {\n",
              "      --bg-color: #3B4455;\n",
              "      --fill-color: #D2E3FC;\n",
              "      --hover-bg-color: #434B5C;\n",
              "      --hover-fill-color: #FFFFFF;\n",
              "      --disabled-bg-color: #3B4455;\n",
              "      --disabled-fill-color: #666;\n",
              "  }\n",
              "\n",
              "  .colab-df-quickchart {\n",
              "    background-color: var(--bg-color);\n",
              "    border: none;\n",
              "    border-radius: 50%;\n",
              "    cursor: pointer;\n",
              "    display: none;\n",
              "    fill: var(--fill-color);\n",
              "    height: 32px;\n",
              "    padding: 0;\n",
              "    width: 32px;\n",
              "  }\n",
              "\n",
              "  .colab-df-quickchart:hover {\n",
              "    background-color: var(--hover-bg-color);\n",
              "    box-shadow: 0 1px 2px rgba(60, 64, 67, 0.3), 0 1px 3px 1px rgba(60, 64, 67, 0.15);\n",
              "    fill: var(--button-hover-fill-color);\n",
              "  }\n",
              "\n",
              "  .colab-df-quickchart-complete:disabled,\n",
              "  .colab-df-quickchart-complete:disabled:hover {\n",
              "    background-color: var(--disabled-bg-color);\n",
              "    fill: var(--disabled-fill-color);\n",
              "    box-shadow: none;\n",
              "  }\n",
              "\n",
              "  .colab-df-spinner {\n",
              "    border: 2px solid var(--fill-color);\n",
              "    border-color: transparent;\n",
              "    border-bottom-color: var(--fill-color);\n",
              "    animation:\n",
              "      spin 1s steps(1) infinite;\n",
              "  }\n",
              "\n",
              "  @keyframes spin {\n",
              "    0% {\n",
              "      border-color: transparent;\n",
              "      border-bottom-color: var(--fill-color);\n",
              "      border-left-color: var(--fill-color);\n",
              "    }\n",
              "    20% {\n",
              "      border-color: transparent;\n",
              "      border-left-color: var(--fill-color);\n",
              "      border-top-color: var(--fill-color);\n",
              "    }\n",
              "    30% {\n",
              "      border-color: transparent;\n",
              "      border-left-color: var(--fill-color);\n",
              "      border-top-color: var(--fill-color);\n",
              "      border-right-color: var(--fill-color);\n",
              "    }\n",
              "    40% {\n",
              "      border-color: transparent;\n",
              "      border-right-color: var(--fill-color);\n",
              "      border-top-color: var(--fill-color);\n",
              "    }\n",
              "    60% {\n",
              "      border-color: transparent;\n",
              "      border-right-color: var(--fill-color);\n",
              "    }\n",
              "    80% {\n",
              "      border-color: transparent;\n",
              "      border-right-color: var(--fill-color);\n",
              "      border-bottom-color: var(--fill-color);\n",
              "    }\n",
              "    90% {\n",
              "      border-color: transparent;\n",
              "      border-bottom-color: var(--fill-color);\n",
              "    }\n",
              "  }\n",
              "</style>\n",
              "\n",
              "  <script>\n",
              "    async function quickchart(key) {\n",
              "      const quickchartButtonEl =\n",
              "        document.querySelector('#' + key + ' button');\n",
              "      quickchartButtonEl.disabled = true;  // To prevent multiple clicks.\n",
              "      quickchartButtonEl.classList.add('colab-df-spinner');\n",
              "      try {\n",
              "        const charts = await google.colab.kernel.invokeFunction(\n",
              "            'suggestCharts', [key], {});\n",
              "      } catch (error) {\n",
              "        console.error('Error during call to suggestCharts:', error);\n",
              "      }\n",
              "      quickchartButtonEl.classList.remove('colab-df-spinner');\n",
              "      quickchartButtonEl.classList.add('colab-df-quickchart-complete');\n",
              "    }\n",
              "    (() => {\n",
              "      let quickchartButtonEl =\n",
              "        document.querySelector('#df-84e5bffe-5386-4a3d-932f-d4b36a315854 button');\n",
              "      quickchartButtonEl.style.display =\n",
              "        google.colab.kernel.accessAllowed ? 'block' : 'none';\n",
              "    })();\n",
              "  </script>\n",
              "</div>\n",
              "\n",
              "    </div>\n",
              "  </div>\n"
            ],
            "application/vnd.google.colaboratory.intrinsic+json": {
              "type": "dataframe",
              "variable_name": "titanic",
              "summary": "{\n  \"name\": \"titanic\",\n  \"rows\": 891,\n  \"fields\": [\n    {\n      \"column\": \"survived\",\n      \"properties\": {\n        \"dtype\": \"number\",\n        \"std\": 0,\n        \"min\": 0,\n        \"max\": 1,\n        \"num_unique_values\": 2,\n        \"samples\": [\n          1,\n          0\n        ],\n        \"semantic_type\": \"\",\n        \"description\": \"\"\n      }\n    },\n    {\n      \"column\": \"pclass\",\n      \"properties\": {\n        \"dtype\": \"number\",\n        \"std\": 0,\n        \"min\": 1,\n        \"max\": 3,\n        \"num_unique_values\": 3,\n        \"samples\": [\n          3,\n          1\n        ],\n        \"semantic_type\": \"\",\n        \"description\": \"\"\n      }\n    },\n    {\n      \"column\": \"sex\",\n      \"properties\": {\n        \"dtype\": \"category\",\n        \"num_unique_values\": 2,\n        \"samples\": [\n          \"female\",\n          \"male\"\n        ],\n        \"semantic_type\": \"\",\n        \"description\": \"\"\n      }\n    },\n    {\n      \"column\": \"age\",\n      \"properties\": {\n        \"dtype\": \"number\",\n        \"std\": 14.526497332334042,\n        \"min\": 0.42,\n        \"max\": 80.0,\n        \"num_unique_values\": 88,\n        \"samples\": [\n          0.75,\n          22.0\n        ],\n        \"semantic_type\": \"\",\n        \"description\": \"\"\n      }\n    },\n    {\n      \"column\": \"sibsp\",\n      \"properties\": {\n        \"dtype\": \"number\",\n        \"std\": 1,\n        \"min\": 0,\n        \"max\": 8,\n        \"num_unique_values\": 7,\n        \"samples\": [\n          1,\n          0\n        ],\n        \"semantic_type\": \"\",\n        \"description\": \"\"\n      }\n    },\n    {\n      \"column\": \"parch\",\n      \"properties\": {\n        \"dtype\": \"number\",\n        \"std\": 0,\n        \"min\": 0,\n        \"max\": 6,\n        \"num_unique_values\": 7,\n        \"samples\": [\n          0,\n          1\n        ],\n        \"semantic_type\": \"\",\n        \"description\": \"\"\n      }\n    },\n    {\n      \"column\": \"fare\",\n      \"properties\": {\n        \"dtype\": \"number\",\n        \"std\": 49.6934285971809,\n        \"min\": 0.0,\n        \"max\": 512.3292,\n        \"num_unique_values\": 248,\n        \"samples\": [\n          11.2417,\n          51.8625\n        ],\n        \"semantic_type\": \"\",\n        \"description\": \"\"\n      }\n    },\n    {\n      \"column\": \"embarked\",\n      \"properties\": {\n        \"dtype\": \"category\",\n        \"num_unique_values\": 3,\n        \"samples\": [\n          \"S\",\n          \"C\"\n        ],\n        \"semantic_type\": \"\",\n        \"description\": \"\"\n      }\n    },\n    {\n      \"column\": \"class\",\n      \"properties\": {\n        \"dtype\": \"category\",\n        \"num_unique_values\": 3,\n        \"samples\": [\n          \"Third\",\n          \"First\"\n        ],\n        \"semantic_type\": \"\",\n        \"description\": \"\"\n      }\n    },\n    {\n      \"column\": \"who\",\n      \"properties\": {\n        \"dtype\": \"category\",\n        \"num_unique_values\": 3,\n        \"samples\": [\n          \"man\",\n          \"woman\"\n        ],\n        \"semantic_type\": \"\",\n        \"description\": \"\"\n      }\n    },\n    {\n      \"column\": \"adult_male\",\n      \"properties\": {\n        \"dtype\": \"boolean\",\n        \"num_unique_values\": 2,\n        \"samples\": [\n          false,\n          true\n        ],\n        \"semantic_type\": \"\",\n        \"description\": \"\"\n      }\n    },\n    {\n      \"column\": \"deck\",\n      \"properties\": {\n        \"dtype\": \"category\",\n        \"num_unique_values\": 7,\n        \"samples\": [\n          \"C\",\n          \"E\"\n        ],\n        \"semantic_type\": \"\",\n        \"description\": \"\"\n      }\n    },\n    {\n      \"column\": \"embark_town\",\n      \"properties\": {\n        \"dtype\": \"category\",\n        \"num_unique_values\": 3,\n        \"samples\": [\n          \"Southampton\",\n          \"Cherbourg\"\n        ],\n        \"semantic_type\": \"\",\n        \"description\": \"\"\n      }\n    },\n    {\n      \"column\": \"alive\",\n      \"properties\": {\n        \"dtype\": \"category\",\n        \"num_unique_values\": 2,\n        \"samples\": [\n          \"yes\",\n          \"no\"\n        ],\n        \"semantic_type\": \"\",\n        \"description\": \"\"\n      }\n    },\n    {\n      \"column\": \"alone\",\n      \"properties\": {\n        \"dtype\": \"boolean\",\n        \"num_unique_values\": 2,\n        \"samples\": [\n          true,\n          false\n        ],\n        \"semantic_type\": \"\",\n        \"description\": \"\"\n      }\n    }\n  ]\n}"
            }
          },
          "metadata": {},
          "execution_count": 1
        }
      ],
      "source": [
        "#Import the built-in Titanic dataset for this problem\n",
        "import seaborn as sns\n",
        "titanic = sns.load_dataset('titanic')\n",
        "titanic.head()"
      ]
    },
    {
      "cell_type": "markdown",
      "metadata": {
        "id": "zKJnrJd60MJN"
      },
      "source": [
        "**TODO1:**\n",
        "What is the average fare paid by passengers of each class who survived and those who didn’t survive?"
      ]
    },
    {
      "cell_type": "code",
      "execution_count": 2,
      "metadata": {
        "id": "RQEA0xQxy_jy",
        "colab": {
          "base_uri": "https://localhost:8080/"
        },
        "outputId": "831ffd74-e19e-4121-8098-c18430dbd2e4"
      },
      "outputs": [
        {
          "output_type": "stream",
          "name": "stdout",
          "text": [
            "survived  pclass\n",
            "0         1         64.684007\n",
            "          2         19.412328\n",
            "          3         13.669364\n",
            "1         1         95.608029\n",
            "          2         22.055700\n",
            "          3         13.694887\n",
            "Name: fare, dtype: float64\n"
          ]
        }
      ],
      "source": [
        "# Solution:\n",
        "# Group the dataset by 'survived' and 'pclass'\n",
        "# Calculate the mean of the 'fare' column for each group\n",
        "average_fare = titanic.groupby([\"survived\",\"pclass\"])['fare'].mean()\n",
        "\n",
        "# Display the average fare paid by passengers of each class who survived and those who didn’t\n",
        "print(average_fare)"
      ]
    },
    {
      "cell_type": "markdown",
      "metadata": {
        "id": "l6C36e6W0T6n"
      },
      "source": [
        "**TODO2:**\n",
        "What is the median age of male and female passengers who did not survive?\n"
      ]
    },
    {
      "cell_type": "code",
      "execution_count": 3,
      "metadata": {
        "id": "ALX3qAkowYTF",
        "colab": {
          "base_uri": "https://localhost:8080/"
        },
        "outputId": "3edf9f40-4e1a-4867-daa7-55f860d50ca3"
      },
      "outputs": [
        {
          "output_type": "stream",
          "name": "stdout",
          "text": [
            "sex\n",
            "female    24.5\n",
            "male      29.0\n",
            "Name: age, dtype: float64\n"
          ]
        }
      ],
      "source": [
        "#Solution:\n",
        "# Filter the dataset for passengers who did not survive\n",
        "non_survivors = titanic[titanic['survived'] == 0]\n",
        "\n",
        "# Group by 'sex' and calculate the median age for those who did not survive\n",
        "median_age_non_survivors = non_survivors.groupby('sex')['age'].median()\n",
        "\n",
        "# Print the median age of male and female non survivors\n",
        "print(median_age_non_survivors)\n"
      ]
    },
    {
      "cell_type": "markdown",
      "metadata": {
        "id": "e-z_w-DF0kAU"
      },
      "source": [
        "**TODO3:**\n",
        "Among all passengers, what is the gender distribution of those who were in 3rd class? Present the result as percentages in a pivot table."
      ]
    },
    {
      "cell_type": "code",
      "execution_count": 4,
      "metadata": {
        "id": "dwncSgD1y6Y4",
        "colab": {
          "base_uri": "https://localhost:8080/"
        },
        "outputId": "ab894aae-b22b-42af-b362-48c40c497ce5"
      },
      "outputs": [
        {
          "output_type": "stream",
          "name": "stdout",
          "text": [
            "           pclass\n",
            "sex              \n",
            "female  29.327902\n",
            "male    70.672098\n"
          ]
        }
      ],
      "source": [
        "#Solution:\n",
        "# Create Pivot table for gender distribution in 3rd class\n",
        "third_class_gender_distribution = titanic[titanic['pclass'] == 3].pivot_table(index='sex', values='pclass', aggfunc='count')\n",
        "\n",
        "# Convert to percentage\n",
        "third_class_gender_distribution_percentage = (third_class_gender_distribution / third_class_gender_distribution.sum()) * 100\n",
        "\n",
        "# Print the result\n",
        "print(third_class_gender_distribution_percentage)\n",
        "\n",
        "\n"
      ]
    },
    {
      "cell_type": "markdown",
      "metadata": {
        "id": "fSf8Yitz0quf"
      },
      "source": [
        "**TODO4:**\n",
        "How many passengers aged 50 or older survived, and in which class were they seated? Provide a breakdown by class."
      ]
    },
    {
      "cell_type": "code",
      "execution_count": 5,
      "metadata": {
        "id": "o4ylgwJGy6cN",
        "colab": {
          "base_uri": "https://localhost:8080/"
        },
        "outputId": "07bb35c9-0a5f-4e6d-8735-8427eb16c036"
      },
      "outputs": [
        {
          "output_type": "stream",
          "name": "stdout",
          "text": [
            "pclass\n",
            "1    20\n",
            "2     6\n",
            "3     1\n",
            "Name: pclass, dtype: int64\n"
          ]
        }
      ],
      "source": [
        "#Solution:\n",
        "# Filter passengers aged 50 or older who survived\n",
        "survived_50_plus = titanic[(titanic['age'] >= 50) & (titanic['survived'] == 1)]\n",
        "\n",
        "# Group by class and count how many passengers survived in each class\n",
        "survived_50_plus_by_class = survived_50_plus.groupby('pclass')['pclass'].count()\n",
        "\n",
        "# Print the breakdown by class\n",
        "print(survived_50_plus_by_class)\n",
        "\n"
      ]
    },
    {
      "cell_type": "markdown",
      "metadata": {
        "id": "dkGIFDyC0vq7"
      },
      "source": [
        "**TODO5:**\n",
        "How many male passengers under the age of 18 from 2nd class did not survive?"
      ]
    },
    {
      "cell_type": "code",
      "execution_count": 6,
      "metadata": {
        "id": "jGkU1yw7y6fV",
        "colab": {
          "base_uri": "https://localhost:8080/"
        },
        "outputId": "9b605364-e883-44da-d3fa-f66987f0eed1"
      },
      "outputs": [
        {
          "output_type": "stream",
          "name": "stdout",
          "text": [
            "     survived  pclass   sex   age  sibsp  parch  fare embarked   class  who  \\\n",
            "791         0       2  male  16.0      0      0  26.0        S  Second  man   \n",
            "841         0       2  male  16.0      0      0  10.5        S  Second  man   \n",
            "\n",
            "     adult_male deck  embark_town alive  alone  \n",
            "791        True  NaN  Southampton    no   True  \n",
            "841        True  NaN  Southampton    no   True  \n"
          ]
        }
      ],
      "source": [
        "#Solution:\n",
        "# Filter male passengers under 18 belonging to 2nd class and did not survive\n",
        "non_survivors_under_18 = titanic[(titanic['sex'] == 'male') & (titanic['age'] < 18) & (titanic['pclass'] == 2) & (titanic['survived'] == 0)]\n",
        "\n",
        "# Print male passengers under 18 from 2nd class who did not survive\n",
        "print(non_survivors_under_18)\n"
      ]
    },
    {
      "cell_type": "markdown",
      "metadata": {
        "id": "hPDnI5rx0zoT"
      },
      "source": [
        "**TODO6:**\n",
        "Check whether the 'pclass' and 'class' variables contain the same information. Are there any redundant variables in the dataset? If so, drop them and present the updated dataset.\n",
        "\n",
        "**Hint:** Compare the two columns (pclass and class) using a method like pd.factorize or LabelEncoder and check if they hold the same values."
      ]
    },
    {
      "cell_type": "code",
      "source": [
        "#Solution:\n",
        "import pandas as pd\n",
        "\n",
        "#LabdeEncoder from sklearn is to encode categorical variables into a numerical format\n",
        "from sklearn.preprocessing import LabelEncoder\n",
        "\n",
        "# Use LabelEncoder on the 'class' column to convert it to numerical values\n",
        "label_encoder = LabelEncoder()\n",
        "titanic['class_encoded'] = label_encoder.fit_transform(titanic['class'])\n",
        "\n",
        "# Display the 'class' and its encoded values\n",
        "print(\"Class and Encoded Values:\")\n",
        "print(titanic[['class', 'class_encoded']].head())\n",
        "\n",
        "# Compare 'pclass' with 'class_encoded' (adding 1 to class_encoded to match pclass)\n",
        "# 'pclass' has values 1, 2, 3 and 'class_encoded' has 0, 1, 2, so are adding 1 to 'class_encoded'\n",
        "print(\"Pclass values:\")\n",
        "print(titanic['pclass'].head())\n",
        "\n",
        "print(\"Class Encoded + 1 values:\")\n",
        "print((titanic['class_encoded'] + 1).head())\n",
        "\n",
        "comparison = (titanic['pclass'] == (titanic['class_encoded'] + 1))\n",
        "\n",
        "# Check if all values in 'pclass' and 'class_encoded + 1' are the same\n",
        "if comparison.all():\n",
        "    print(\"The 'pclass' and 'class' columns contain the same information.\")\n",
        "    # Step 5: Drop 'class' and 'class_encoded' since they are redundant\n",
        "    titanic_cleaned = titanic.drop(['class', 'class_encoded'], axis=1)\n",
        "    print(\"The 'class' column has been dropped.\")\n",
        "else:\n",
        "    print(\"The 'pclass' and 'class' columns are different.\")\n",
        "    titanic_cleaned = titanic\n",
        "\n",
        "# Display the first 10 rows of the cleaned dataset to check\n",
        "print(\"Updated Dataset:\")\n",
        "print(titanic_cleaned.head(10))\n"
      ],
      "metadata": {
        "colab": {
          "base_uri": "https://localhost:8080/"
        },
        "id": "8jEhoAPzdodw",
        "outputId": "42860505-e69a-4495-865d-e1cde3736616"
      },
      "execution_count": 7,
      "outputs": [
        {
          "output_type": "stream",
          "name": "stdout",
          "text": [
            "Class and Encoded Values:\n",
            "   class  class_encoded\n",
            "0  Third              2\n",
            "1  First              0\n",
            "2  Third              2\n",
            "3  First              0\n",
            "4  Third              2\n",
            "Pclass values:\n",
            "0    3\n",
            "1    1\n",
            "2    3\n",
            "3    1\n",
            "4    3\n",
            "Name: pclass, dtype: int64\n",
            "Class Encoded + 1 values:\n",
            "0    3\n",
            "1    1\n",
            "2    3\n",
            "3    1\n",
            "4    3\n",
            "Name: class_encoded, dtype: int64\n",
            "The 'pclass' and 'class' columns contain the same information.\n",
            "The 'class' column has been dropped.\n",
            "Updated Dataset:\n",
            "   survived  pclass     sex   age  sibsp  parch     fare embarked    who  \\\n",
            "0         0       3    male  22.0      1      0   7.2500        S    man   \n",
            "1         1       1  female  38.0      1      0  71.2833        C  woman   \n",
            "2         1       3  female  26.0      0      0   7.9250        S  woman   \n",
            "3         1       1  female  35.0      1      0  53.1000        S  woman   \n",
            "4         0       3    male  35.0      0      0   8.0500        S    man   \n",
            "5         0       3    male   NaN      0      0   8.4583        Q    man   \n",
            "6         0       1    male  54.0      0      0  51.8625        S    man   \n",
            "7         0       3    male   2.0      3      1  21.0750        S  child   \n",
            "8         1       3  female  27.0      0      2  11.1333        S  woman   \n",
            "9         1       2  female  14.0      1      0  30.0708        C  child   \n",
            "\n",
            "   adult_male deck  embark_town alive  alone  \n",
            "0        True  NaN  Southampton    no  False  \n",
            "1       False    C    Cherbourg   yes  False  \n",
            "2       False  NaN  Southampton   yes   True  \n",
            "3       False    C  Southampton   yes  False  \n",
            "4        True  NaN  Southampton    no   True  \n",
            "5        True  NaN   Queenstown    no   True  \n",
            "6        True    E  Southampton    no   True  \n",
            "7       False  NaN  Southampton    no  False  \n",
            "8       False  NaN  Southampton   yes  False  \n",
            "9       False  NaN    Cherbourg   yes  False  \n"
          ]
        }
      ]
    },
    {
      "cell_type": "markdown",
      "metadata": {
        "id": "CkljBCp-08CI"
      },
      "source": [
        "**TODO7:**\n",
        "What is the survival rate for passengers with siblings or spouses aboard versus those who were alone? Present your findings through a pivot table.\n",
        "\n",
        "**Hint:** Use the sibsp column to distinguish between passengers with and without siblings or spouses and calculate survival rates."
      ]
    },
    {
      "cell_type": "code",
      "execution_count": 8,
      "metadata": {
        "id": "NRkDN1g9y6kh",
        "colab": {
          "base_uri": "https://localhost:8080/"
        },
        "outputId": "0cd02697-3eb7-408f-b4ec-d3c2f429c943"
      },
      "outputs": [
        {
          "output_type": "stream",
          "name": "stdout",
          "text": [
            "                      survival_rate\n",
            "Family_status                      \n",
            "Alone                     34.539474\n",
            "With Siblings/Spouse      46.643110\n"
          ]
        }
      ],
      "source": [
        "#Solution:\n",
        "\n",
        "# Create a new column to identify passengers with or without siblings/spouses\n",
        "titanic['Family_status'] = titanic['sibsp'].apply(lambda x: 'With Siblings/Spouse' if x > 0 else 'Alone')\n",
        "\n",
        "# Create a pivot table to calculate survival rates\n",
        "# 'survived' column contains 1 for survival, so the mean of this column gives the survival rate\n",
        "pivot_table = pd.pivot_table(titanic, values='survived', index='Family_status', aggfunc='mean')\n",
        "\n",
        "# Multiply by 100 to express survival rate as a percentage\n",
        "pivot_table['survival_rate'] = pivot_table['survived'] * 100\n",
        "\n",
        "# Print the pivot table with survival rates\n",
        "print(pivot_table[['survival_rate']])\n",
        "\n"
      ]
    },
    {
      "cell_type": "markdown",
      "metadata": {
        "id": "cwmJak0B2d3_"
      },
      "source": [
        "# Problem 2\n",
        "<b>Source</b> - Attached File(Cereals.csv)<br>\n",
        "<b>Description</b> - This dataset offers comprehensive information on various breakfast cereals, focusing on their nutritional values, manufacturer, type (cold or hot), and an overall rating score. Key attributes include calories, protein, fat, sodium, fiber, carbohydrates, sugars, potassium, vitamins, and serving size (measured in cups and weight). It also identifies the manufacturer, supermarket shelf placement (top, middle, or bottom), and a computed rating that likely indicates the cereal's nutritional quality. The dataset is useful for comparing the health content of different cereals and examining their market positioning."
      ]
    },
    {
      "cell_type": "markdown",
      "metadata": {
        "id": "NYMD4o6a2eCq"
      },
      "source": [
        "**TODO 1:** If a variable contains more than 5 missing records, impute the records by using the mean value of the variable.\n",
        "If a variable contains less than 5 missing records, remove the missing values from the variable column."
      ]
    },
    {
      "cell_type": "code",
      "execution_count": 41,
      "metadata": {
        "id": "hhyq7zeTa19z"
      },
      "outputs": [],
      "source": [
        "#Importing Dataset\n",
        "import pandas as pd\n",
        "df=pd.read_csv(\"cereals.csv\")"
      ]
    },
    {
      "cell_type": "code",
      "execution_count": null,
      "metadata": {
        "id": "fgrb_DjPa19z"
      },
      "outputs": [],
      "source": [
        "#Solution\n",
        "\n",
        "for column in df.columns:\n",
        "  missing = df[column].isnull().sum()\n",
        "  if missing > 5:\n",
        "        df[column] = df[column].fillna(df[column].mean())\n",
        "  else:\n",
        "        df = df.dropna(subset=[column])"
      ]
    },
    {
      "cell_type": "markdown",
      "metadata": {
        "id": "ksgv4Qc65-F2"
      },
      "source": [
        "**TODO 2:** Check if all missing values are handled"
      ]
    },
    {
      "cell_type": "code",
      "execution_count": 45,
      "metadata": {
        "id": "q8SXUBFp3ncC",
        "colab": {
          "base_uri": "https://localhost:8080/",
          "height": 585
        },
        "outputId": "0b1fa1a3-e4d4-4f82-fce5-232a785c06ec"
      },
      "outputs": [
        {
          "output_type": "execute_result",
          "data": {
            "text/plain": [
              "name        0\n",
              "mfr         0\n",
              "type        0\n",
              "calories    0\n",
              "protein     0\n",
              "fat         0\n",
              "sodium      0\n",
              "fiber       0\n",
              "carbo       0\n",
              "sugars      0\n",
              "potass      0\n",
              "vitamins    0\n",
              "shelf       0\n",
              "weight      0\n",
              "cups        0\n",
              "rating      0\n",
              "dtype: int64"
            ],
            "text/html": [
              "<div>\n",
              "<style scoped>\n",
              "    .dataframe tbody tr th:only-of-type {\n",
              "        vertical-align: middle;\n",
              "    }\n",
              "\n",
              "    .dataframe tbody tr th {\n",
              "        vertical-align: top;\n",
              "    }\n",
              "\n",
              "    .dataframe thead th {\n",
              "        text-align: right;\n",
              "    }\n",
              "</style>\n",
              "<table border=\"1\" class=\"dataframe\">\n",
              "  <thead>\n",
              "    <tr style=\"text-align: right;\">\n",
              "      <th></th>\n",
              "      <th>0</th>\n",
              "    </tr>\n",
              "  </thead>\n",
              "  <tbody>\n",
              "    <tr>\n",
              "      <th>name</th>\n",
              "      <td>0</td>\n",
              "    </tr>\n",
              "    <tr>\n",
              "      <th>mfr</th>\n",
              "      <td>0</td>\n",
              "    </tr>\n",
              "    <tr>\n",
              "      <th>type</th>\n",
              "      <td>0</td>\n",
              "    </tr>\n",
              "    <tr>\n",
              "      <th>calories</th>\n",
              "      <td>0</td>\n",
              "    </tr>\n",
              "    <tr>\n",
              "      <th>protein</th>\n",
              "      <td>0</td>\n",
              "    </tr>\n",
              "    <tr>\n",
              "      <th>fat</th>\n",
              "      <td>0</td>\n",
              "    </tr>\n",
              "    <tr>\n",
              "      <th>sodium</th>\n",
              "      <td>0</td>\n",
              "    </tr>\n",
              "    <tr>\n",
              "      <th>fiber</th>\n",
              "      <td>0</td>\n",
              "    </tr>\n",
              "    <tr>\n",
              "      <th>carbo</th>\n",
              "      <td>0</td>\n",
              "    </tr>\n",
              "    <tr>\n",
              "      <th>sugars</th>\n",
              "      <td>0</td>\n",
              "    </tr>\n",
              "    <tr>\n",
              "      <th>potass</th>\n",
              "      <td>0</td>\n",
              "    </tr>\n",
              "    <tr>\n",
              "      <th>vitamins</th>\n",
              "      <td>0</td>\n",
              "    </tr>\n",
              "    <tr>\n",
              "      <th>shelf</th>\n",
              "      <td>0</td>\n",
              "    </tr>\n",
              "    <tr>\n",
              "      <th>weight</th>\n",
              "      <td>0</td>\n",
              "    </tr>\n",
              "    <tr>\n",
              "      <th>cups</th>\n",
              "      <td>0</td>\n",
              "    </tr>\n",
              "    <tr>\n",
              "      <th>rating</th>\n",
              "      <td>0</td>\n",
              "    </tr>\n",
              "  </tbody>\n",
              "</table>\n",
              "</div><br><label><b>dtype:</b> int64</label>"
            ]
          },
          "metadata": {},
          "execution_count": 45
        }
      ],
      "source": [
        "#Solution:\n",
        "df.isnull().sum()"
      ]
    },
    {
      "cell_type": "markdown",
      "metadata": {
        "id": "OK-pevIA6Xsq"
      },
      "source": [
        "**TODO 3:** Plot a boxplot for Potassium column and tell how you can deal with the outliers(along with reason)\n",
        "\n",
        "*   Note: Please make sure your plots are complete and presentable with a title, proper axis names and legends if applicable."
      ]
    },
    {
      "cell_type": "code",
      "source": [
        "import matplotlib.pyplot as plt"
      ],
      "metadata": {
        "id": "_0Td9-yumvU4"
      },
      "execution_count": 49,
      "outputs": []
    },
    {
      "cell_type": "code",
      "execution_count": 52,
      "metadata": {
        "id": "JkRI1NfH6V8I",
        "colab": {
          "base_uri": "https://localhost:8080/",
          "height": 472
        },
        "outputId": "8c6156e8-e7a9-43c2-80fd-31dcc90b08f3"
      },
      "outputs": [
        {
          "output_type": "display_data",
          "data": {
            "text/plain": [
              "<Figure size 640x480 with 1 Axes>"
            ],
            "image/png": "[encoded data removed]"
          },
          "metadata": {}
        }
      ],
      "source": [
        "#Solution:\n",
        "sns.boxplot(x = df['potass'])\n",
        "plt.title('Box Plot - Potassium')\n",
        "plt.xlabel('Potassium')\n",
        "plt.show()"
      ]
    },
    {
      "cell_type": "markdown",
      "source": [
        "Outliers can be dealt in various ways, mostly domain knowledge is important when dealing with such cases.\n",
        "\n",
        "- Outliers can be due to wrongly inputted/recorded data. In these cases, domain knowledge is important to decide if we should ignore and delete the data point.\n",
        "\n",
        "- When the outliers are extreme data points, and skew the data distribution, it is a good approach to cap them, so to prevent any further analysis that may take place using the data.\n",
        "\n",
        "- Outliers are not \"wrong\" data all the time, in many cases, they are just very unique \"real\" data, so ignoring and deleting those might not be a good option.\n",
        "We can transform the outliers to fall under a certain range, for eg; replacing with maximum or minimum, applying logarithmic or sq root transformations.  "
      ],
      "metadata": {
        "id": "oSZtkXOOnTW2"
      }
    },
    {
      "cell_type": "markdown",
      "metadata": {
        "id": "-y69UReXa192"
      },
      "source": [
        "# Problem 3\n"
      ]
    },
    {
      "cell_type": "markdown",
      "metadata": {
        "id": "N2_JyoBSa192"
      },
      "source": [
        "<b>Source</b>-[Accidents.csv](https://northeastern.instructure.com/courses/193971/files/29213638?module_item_id=10857004)<br>\n",
        "<b>Description</b>- 1) RushHour: Indicates whether the incident occurred during rush hour (1 = Yes, 0 = No).<br>\n",
        "             2) WRK_ZONE: Represents whether the incident occurred in a work zone (1 = Yes, 0 = No)<br>\n",
        "             3) WKDY:  Represents whether it was a weekday or not (1 = Yes, 0 = No).<br>\n",
        "             4) INT_HWY: Indicates if the incident happened on an interstate highway (1 = Yes, 0 = No).<br>\n",
        "             5) LGTCON_day: Represents light conditions at the time of the incident, likely categorizing whether it was\n",
        "             daytime (1 = Daytime, 0 = Other).<br>\n",
        "             6) LEVEL: Represents the severity level of the incident(1 = Severe, 0 = Not Severe).<br>\n",
        "             7) SPD_LIM: The speed limit (in mph) where the incident took place.<br>\n",
        "             8) SUR_COND_dry: Road surface condition, where 1 indicates dry and 0 indicates non-dry (wet, icy, etc.).<br>\n",
        "             9) TRAF_two_way: Traffic condition, where 1 indicates two-way traffic and 0 indicates otherwise.<br>\n",
        "            10) WEATHER_adverse: Describes adverse weather conditions during the incident (1 = Adverse weather, 0 = Clear or normal weather).<br>\n",
        "            11) MAX_SEV: The severity of the incident, categorized into labels like \"no-injury\" and \"non-fatal\", suggesting the\n",
        "             maximum severity of injuries.<br>"
      ]
    },
    {
      "cell_type": "markdown",
      "metadata": {
        "id": "4lUA2st564_Y"
      },
      "source": [
        "**TODO 1:** Plot a barplot between Average Speed Limit and Max Severity"
      ]
    },
    {
      "cell_type": "code",
      "source": [
        "df = pd.read_csv('accidents.csv')"
      ],
      "metadata": {
        "id": "ApufSowUo-ZZ"
      },
      "execution_count": 53,
      "outputs": []
    },
    {
      "cell_type": "code",
      "execution_count": 64,
      "metadata": {
        "id": "Eb_6jwR86xkn",
        "colab": {
          "base_uri": "https://localhost:8080/",
          "height": 489
        },
        "outputId": "24d263ac-2315-411f-c5f5-ac8255729399"
      },
      "outputs": [
        {
          "output_type": "execute_result",
          "data": {
            "text/plain": [
              "Text(0, 0.5, 'Average Speed Limit (mph)')"
            ]
          },
          "metadata": {},
          "execution_count": 64
        },
        {
          "output_type": "display_data",
          "data": {
            "text/plain": [
              "<Figure size 640x480 with 1 Axes>"
            ],
            "image/png": "[encoded data removed]"
          },
          "metadata": {}
        }
      ],
      "source": [
        "#Solution\n",
        "avg_speed = df.groupby('MAX_SEV')['SPD_LIM'].mean().reset_index()\n",
        "\n",
        "sns.barplot(x='MAX_SEV', y='SPD_LIM', data=avg_speed)\n",
        "\n",
        "\n",
        "plt.title('Average Speed Limit by Severity Level')\n",
        "plt.xlabel('Maximum Severity Level')\n",
        "plt.ylabel('Average Speed Limit (mph)')"
      ]
    },
    {
      "cell_type": "markdown",
      "metadata": {
        "id": "pbFgED356-Kp"
      },
      "source": [
        "**TODO 2:** Do you see any issue with the plot which seems non reasonable"
      ]
    },
    {
      "cell_type": "code",
      "execution_count": 67,
      "metadata": {
        "id": "E-G8iZlia193"
      },
      "outputs": [],
      "source": [
        "#Solution:\n"
      ]
    },
    {
      "cell_type": "markdown",
      "source": [
        "The plot shows that the average speed limit is highest for fatal accidents, which may seem counterintuitive as you'd expect higher speeds to correlate with more severe outcomes. The small difference between non-fatal and no-injury cases raises the question of whether other factors are influencing the severity of accidents."
      ],
      "metadata": {
        "id": "VN3SU3jA16X4"
      }
    },
    {
      "cell_type": "markdown",
      "metadata": {
        "id": "4SsvaRAk7ILP"
      },
      "source": [
        "**TODO 3:** Plot a boxplot between rush hour and speed limit"
      ]
    },
    {
      "cell_type": "code",
      "execution_count": 68,
      "metadata": {
        "id": "2XbXXpQM6xpI",
        "colab": {
          "base_uri": "https://localhost:8080/",
          "height": 489
        },
        "outputId": "8291f5a5-46f5-49f4-8e65-9aadd785727c"
      },
      "outputs": [
        {
          "output_type": "execute_result",
          "data": {
            "text/plain": [
              "Text(0, 0.5, 'Speed Limit')"
            ]
          },
          "metadata": {},
          "execution_count": 68
        },
        {
          "output_type": "display_data",
          "data": {
            "text/plain": [
              "<Figure size 640x480 with 1 Axes>"
            ],
            "image/png": "[encoded data removed]"
          },
          "metadata": {}
        }
      ],
      "source": [
        "#Solution:\n",
        "sns.boxplot(x = 'RushHour', y = 'SPD_LIM', data = df)\n",
        "plt.title('Box Plot - Rush hour vs Speed Limit')\n",
        "plt.xlabel('Rush Hour')\n",
        "plt.ylabel('Speed Limit')"
      ]
    },
    {
      "cell_type": "markdown",
      "metadata": {
        "id": "onXrG2ay7XCT"
      },
      "source": [
        "**TODO 4:** From above 2 visualizations what conditions are more prone to fatal injuries"
      ]
    },
    {
      "cell_type": "code",
      "execution_count": null,
      "metadata": {
        "id": "WtwCmDfFa196"
      },
      "outputs": [],
      "source": [
        "#Solution:\n"
      ]
    },
    {
      "cell_type": "markdown",
      "metadata": {
        "id": "j97yHeF47XIR"
      },
      "source": [
        "# Problem 4"
      ]
    },
    {
      "cell_type": "markdown",
      "metadata": {
        "id": "wBJBgN_170XM"
      },
      "source": [
        "**About Dataset**\n",
        "\n",
        "- **Source:** [UniversalBank.csv](https://northeastern.instructure.com/courses/193971/files/29213725?module_item_id=10857061)\n",
        "\n",
        "- **Description:** This dataset provides a comprehensive overview of customer information for a bank, focusing on both demographic details and financial activities. It includes data on customer characteristics such as age and experience, as well as their engagement with various banking products and services. The dataset is well-suited for exploring trends in customer behavior, financial decision-making, and the relationship between demographic factors and banking product usage.\n"
      ]
    },
    {
      "cell_type": "code",
      "execution_count": null,
      "metadata": {
        "id": "JUiAIwMy7_8B"
      },
      "outputs": [],
      "source": [
        "#Solution:\n",
        "#Import the necessary libraries\n",
        "import pandas as pd\n",
        "\n",
        "#Load the dataset\n"
      ]
    },
    {
      "cell_type": "markdown",
      "metadata": {
        "id": "uHZ3LM-E8Lqn"
      },
      "source": [
        "**TODO 1:** Identify outliers using the IQR method"
      ]
    },
    {
      "cell_type": "code",
      "execution_count": null,
      "metadata": {
        "id": "CAantamN7_-4"
      },
      "outputs": [],
      "source": [
        "#Solution:\n",
        "#Calc IQR for Income\n",
        "\n",
        "\n",
        "# Define the bounds for outliers in Income\n",
        "\n",
        "\n",
        "# Identify outliers in the Income column\n"
      ]
    },
    {
      "cell_type": "code",
      "execution_count": null,
      "metadata": {
        "id": "1Q8Jp64c8ABf"
      },
      "outputs": [],
      "source": [
        "#Solution:\n",
        "# Output the result\n",
        "\n"
      ]
    },
    {
      "cell_type": "markdown",
      "metadata": {
        "id": "Ce9NiEaJ_4pK"
      },
      "source": [
        "**TODO 2:** Would you recommend removing, transforming, or keeping these outliers in the dataset? Justify your choice"
      ]
    },
    {
      "cell_type": "markdown",
      "metadata": {
        "id": "xnKb_WlGaXhM"
      },
      "source": [
        "**#Solution:**\n",
        "- Enter your recommended approach:\n",
        "\n",
        "\n",
        "\n",
        "\n",
        "\n"
      ]
    },
    {
      "cell_type": "markdown",
      "metadata": {
        "id": "0ep4S8SyaoxU"
      },
      "source": []
    },
    {
      "cell_type": "markdown",
      "metadata": {
        "id": "9jwLIt2z8dSe"
      },
      "source": [
        "**TODO 3:** Create a boxplot to visualize the distribution of the Income column"
      ]
    },
    {
      "cell_type": "code",
      "execution_count": null,
      "metadata": {
        "id": "U2-lYqgo8AGe"
      },
      "outputs": [],
      "source": [
        "#Solution:\n"
      ]
    },
    {
      "cell_type": "markdown",
      "metadata": {
        "id": "3LfdEzCy8t0j"
      },
      "source": [
        "**TODO 4:** Create a scatter plot to explore the relationship between Income and CCAvg (Credit Card Average)."
      ]
    },
    {
      "cell_type": "code",
      "execution_count": null,
      "metadata": {
        "id": "sC_57jv_8yIF"
      },
      "outputs": [],
      "source": [
        "#Solution:\n"
      ]
    }
  ],
  "metadata": {
    "colab": {
      "provenance": []
    },
    "kernelspec": {
      "display_name": "Python 3 (ipykernel)",
      "language": "python",
      "name": "python3"
    },
    "language_info": {
      "codemirror_mode": {
        "name": "ipython",
        "version": 3
      },
      "file_extension": ".py",
      "mimetype": "text/x-python",
      "name": "python",
      "nbconvert_exporter": "python",
      "pygments_lexer": "ipython3",
      "version": "3.9.7"
    }
  },
  "nbformat": 4,
  "nbformat_minor": 0
}